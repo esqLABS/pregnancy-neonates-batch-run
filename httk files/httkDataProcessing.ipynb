{
 "cells": [
  {
   "cell_type": "code",
   "execution_count": 2,
   "id": "87603767-c194-4390-bb9b-fe95db1a0fdf",
   "metadata": {},
   "outputs": [
    {
     "name": "stdout",
     "output_type": "stream",
     "text": [
      "0\n"
     ]
    },
    {
     "name": "stderr",
     "output_type": "stream",
     "text": [
      "\n",
      "it [00:00, ?it/s]"
     ]
    }
   ],
   "source": [
    "import pandas as pd \n",
    "import glob\n",
    "import numpy as np\n",
    "from tqdm import tqdm \n",
    "\n",
    "data=[]\n",
    "i=0\n",
    "print(i)\n",
    "for name in tqdm(glob.glob(\"filepath*\")):  \n",
    "    print (name) \n",
    "    xl = pd.read_csv(name) \n",
    "\n",
    "    #these eq's are for 24GW\n",
    "    xl['Afliver'] = xl['Cfliver'].multiply(0.027222)\n",
    "    xl['Afven'] = xl['Cfven'].multiply(0.030786)\n",
    "    xl['Afart'] = xl['Cfart'].multiply(0.008279)\n",
    "    xl['Afgut'] = xl['Cfgut'].multiply(0.008451)\n",
    "    xl['Aflung'] = xl['Cflung'].multiply(0.01657)\n",
    "    xl['Afrest'] = xl['Cfrest'].multiply(0.46753)\n",
    "    xl['Afthyroid'] = xl['Cfthyroid'].multiply(0.000428)\n",
    "    xl['Afkidney'] = xl['Cfkidney'].multiply(0.005625)\n",
    "    xl['Afbrain'] = xl['Cfbrain'].multiply(0.081875)\n",
    "\n",
    "    xl['Afpsum'] = xl['Aplacenta'] + xl['Afliver'] + xl['Afven']+ xl['Afart']  + xl['Afgut']+ xl['Aflung']+ xl['Afrest']+ xl['Afthyroid']+ xl['Afkidney']+ xl['Afbrain']\n",
    "    xl['Afsum'] = xl['Afliver'] + xl['Afgut']+ xl['Aflung']+ xl['Afrest']+ xl['Afthyroid']+ xl['Afkidney']+ xl['Afbrain']\n",
    "    xl['Afavsum'] = xl['Afliver'] + xl['Afven']+ xl['Afart'] + xl['Afgut']+ xl['Aflung']+ xl['Afrest']+ xl['Afthyroid']+ xl['Afkidney']+ xl['Afbrain']\n",
    "\n",
    "    AfpMAX = xl['Afpsum'].max() \n",
    "    AfMAX = xl['Afsum'].max() \n",
    "    AfavMAX = xl['Afavsum'].max() \n",
    "\n",
    "    CfpMax = AfpMAX/0.97347\n",
    "    CfMax = AfMAX/0.607702\n",
    "    CfavMax = AfMAX/0.646766\n",
    "\n",
    "    CfbrainMAX = xl['Cfbrain'].max()\n",
    "\n",
    "    CplasmaMAX = xl['Cplasma'].max()\n",
    "\n",
    "    CfvenMAX = xl['Cfven'].max()\n",
    "\n",
    "    AUCplasma = xl['AUC'].max()\n",
    " \n",
    "    data.append([name, CfMax, CfavMax, CfpMax, CfbrainMAX, CplasmaMAX, CfvenMAX, AUCplasma])\n",
    "    \n",
    "    df = pd.DataFrame(data, columns = ['Name', 'CfMax', 'CfavMax', 'CfpMax', 'CfbrainMax', 'CplasmaMAX', 'CfvenMAX', 'AUC'])\n",
    "    df.to_excel(\"filepath\") \n",
    "\n"
   ]
  },
  {
   "cell_type": "code",
   "execution_count": 2,
   "id": "154b7071-277d-4601-b904-30d041c145c5",
   "metadata": {},
   "outputs": [
    {
     "name": "stdout",
     "output_type": "stream",
     "text": [
      "0\n"
     ]
    },
    {
     "name": "stderr",
     "output_type": "stream",
     "text": [
      "0it [00:00, ?it/s]\n"
     ]
    }
   ],
   "source": [
    "import pandas as pd \n",
    "import glob\n",
    "import numpy as np\n",
    "from tqdm import tqdm \n",
    "\n",
    "data=[]\n",
    "i=0\n",
    "print(i)\n",
    "for name in tqdm(glob.glob(\"filepath*\")):  \n",
    "    xl = pd.read_csv(name) \n",
    "    \n",
    "    #these eq's are for 15GW\n",
    "    xl['Afliver'] = xl['Cfliver'].multiply(0.004483)\n",
    "    xl['Afven'] = xl['Cfven'].multiply(0.002866)\n",
    "    xl['Afart'] = xl['Cfart'].multiply(0.000771)\n",
    "    xl['Afgut'] = xl['Cfgut'].multiply(0.000834)\n",
    "    xl['Aflung'] = xl['Cflung'].multiply(0.002506)\n",
    "    xl['Afrest'] = xl['Cfrest'].multiply(0.034621)\n",
    "    xl['Afthyroid'] = xl['Cfthyroid'].multiply(0.000119)\n",
    "    xl['Afkidney'] = xl['Cfkidney'].multiply(0.000654)\n",
    "    xl['Afbrain'] = xl['Cfbrain'].multiply(0.01335)\n",
    "\n",
    "    xl['Afpsum'] = xl['Aplacenta'] + xl['Afliver'] + xl['Afven']+ xl['Afart'] + xl['Afgut']+ xl['Aflung']+ xl['Afrest']+ xl['Afthyroid']+ xl['Afkidney']+ xl['Afbrain']\n",
    "    xl['Afsum'] = xl['Afliver'] + xl['Afgut']+ xl['Aflung']+ xl['Afrest']+ xl['Afthyroid']+ xl['Afkidney']+ xl['Afbrain']\n",
    "    xl['Afavsum'] = xl['Afliver'] + xl['Afven']+ xl['Afart'] + xl['Afgut']+ xl['Aflung']+ xl['Afrest']+ xl['Afthyroid']+ xl['Afkidney']+ xl['Afbrain']\n",
    "\n",
    "    AfpMAX = xl['Afpsum'].max() \n",
    "    AfMAX = xl['Afsum'].max() \n",
    "    AfavMAX = xl['Afavsum'].max() \n",
    "   \n",
    "    CfpMax = AfpMAX/0.201269\n",
    "    CfMax = AfMAX/0.056566\n",
    "    CfavMax = AfMAX/0.060202\n",
    "    \n",
    "    CfbrainMAX = xl['Cfbrain'].max() \n",
    "\n",
    "    CplasmaMAX = xl['Cplasma'].max()\n",
    "\n",
    "    CfvenMAX = xl['Cfven'].max()\n",
    "\n",
    "    AUCplasma = xl['AUC'].max()\n",
    "\n",
    "    data.append([name, CfMax, CfavMax, CfpMax, CfbrainMAX, CplasmaMAX, CfvenMAX, AUCplasma])\n",
    "    \n",
    "    df = pd.DataFrame(data, columns = ['Name', 'CfMax', 'CfavMax', 'CfpMax', 'CfbrainMax', 'CplasmaMAX', 'CfvenMAX', 'AUC'])\n",
    "    df.to_excel(\"filepath\") "
   ]
  },
  {
   "cell_type": "code",
   "execution_count": null,
   "id": "35fc9449-2d78-49c9-b14f-759578302f1c",
   "metadata": {},
   "outputs": [],
   "source": []
  }
 ],
 "metadata": {
  "kernelspec": {
   "display_name": "Python 3 (ipykernel)",
   "language": "python",
   "name": "python3"
  },
  "language_info": {
   "codemirror_mode": {
    "name": "ipython",
    "version": 3
   },
   "file_extension": ".py",
   "mimetype": "text/x-python",
   "name": "python",
   "nbconvert_exporter": "python",
   "pygments_lexer": "ipython3",
   "version": "3.12.8"
  }
 },
 "nbformat": 4,
 "nbformat_minor": 5
}
